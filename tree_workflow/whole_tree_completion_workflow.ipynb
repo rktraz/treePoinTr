{
 "cells": [
  {
   "cell_type": "markdown",
   "id": "d7ecec78",
   "metadata": {},
   "source": [
    "Apply point cloud completion (based on PoinTr) to a xyz cloud of any size. Most suitable for single trees."
   ]
  },
  {
   "cell_type": "code",
   "execution_count": 6,
   "id": "903e60c4",
   "metadata": {},
   "outputs": [
    {
     "name": "stdout",
     "output_type": "stream",
     "text": [
      "Jupyter environment detected. Enabling Open3D WebVisualizer.\n",
      "[Open3D INFO] WebRTC GUI backend enabled.\n",
      "[Open3D INFO] WebRTCWindowSystem: HTTP handshake server disabled.\n"
     ]
    }
   ],
   "source": [
    "import numpy as np\n",
    "import os\n",
    "import glob\n",
    "import open3d as o3d\n",
    "import tree2cubes\n"
   ]
  },
  {
   "cell_type": "markdown",
   "id": "9d294508",
   "metadata": {},
   "source": [
    "### Load point cloud"
   ]
  },
  {
   "cell_type": "code",
   "execution_count": 7,
   "id": "caeb2a6c",
   "metadata": {},
   "outputs": [],
   "source": [
    "# path to incomplete point cloud\n",
    "input_file = \"../files_to_test/morph_postprocessed_nbrhd_postprocessed_231_leafon_excellent_quality_classified.las.extract.ply\""
   ]
  },
  {
   "cell_type": "code",
   "execution_count": 8,
   "id": "ce4d23eb",
   "metadata": {},
   "outputs": [],
   "source": [
    "# load incomplete pointcloud\n",
    "# point_cloud = np.loadtxt(infile, skiprows=1, delimiter=\" \") # delimiter=\",\"\n",
    "\n",
    "# load .ply file and convert to numpy array\n",
    "ply_cloud = o3d.io.read_point_cloud(input_file)\n",
    "point_cloud = np.asarray(ply_cloud.points)"
   ]
  },
  {
   "cell_type": "markdown",
   "id": "2bb78a4c",
   "metadata": {},
   "source": [
    "### Cut into samples\n",
    "\n",
    "PoinTr only allows input point clouds of a limited size. The treePoinTr models were trained on point cloud samples of 1m^3  containing between 2730 and 8192 points.\n",
    "To apply completion on entire trees or even plots, larger point clouds need to be cut into cubes (voxels) to perform inference.\n",
    "We use the function cut_point_cloud() to voxelize the point cloud four times with spatially shifted grids and specifyable voxel sizes. "
   ]
  },
  {
   "cell_type": "code",
   "execution_count": 10,
   "id": "d25853d4",
   "metadata": {},
   "outputs": [],
   "source": [
    "# Cut the point cloud into cubes and save as .txt files. Choose 4 cube sizes approx. between 0.6 and 1.8 m\n",
    "outpath = \"files_to_test_cubes/\"\n",
    "tree2cubes.cut_point_cloud(point_cloud, outpath, size1=1, size2=1, size3=1.25, size4=1.8)"
   ]
  },
  {
   "cell_type": "markdown",
   "id": "d4a3b692",
   "metadata": {},
   "source": [
    "Optional data augmentation step:\n",
    "make addtional versions of the cubes where x and z are switched. \n",
    "(inference results are sometimes rotation dependent)"
   ]
  },
  {
   "cell_type": "code",
   "execution_count": 11,
   "id": "1172ca0f",
   "metadata": {},
   "outputs": [],
   "source": [
    "# make versions of the cubes where x and z are switched\n",
    "path = \"files_to_test_cubes/\"\n",
    "\n",
    "for files in glob.glob(path+\"*.txt\"): \n",
    "    data = np.loadtxt(files)\n",
    "    filename = os.path.basename(files)\n",
    "    # Swap the first and third columns\n",
    "    flipfile = np.column_stack((data[:, 2], data[:, 1], data[:, 0]))\n",
    "    np.savetxt(path+filename+\"_flip.txt\", flipfile)"
   ]
  },
  {
   "cell_type": "markdown",
   "id": "995954e2",
   "metadata": {},
   "source": [
    "### Inference\n",
    "\n",
    "Inference the samples with a pretrained model, following the instructions on https://github.com/yuxumin/PoinTr\n",
    "\n",
    "For example, inference all samples under cubes/ and save the results under inference_result/, using the model real_ckpt-best.pth:\n"
   ]
  },
  {
   "cell_type": "markdown",
   "id": "437bdf45",
   "metadata": {},
   "source": [
    "\n",
    "````\n",
    "python tools/inference.py \\\n",
    "cfgs/predefhull_models/AdaPoinTr.yaml ckpts/AdaPoinTr_tree_grove_real.pth \\\n",
    "--pc_root \"tree_workflow/files_to_test_cubes/\" --save_vis_img  --save_ply \\\n",
    "--out_pc_root \"inference_results/\"\n",
    "\n",
    "````\n"
   ]
  },
  {
   "cell_type": "code",
   "execution_count": null,
   "id": "ebd63272",
   "metadata": {},
   "outputs": [
    {
     "name": "stdout",
     "output_type": "stream",
     "text": [
      "done\n"
     ]
    }
   ],
   "source": [
    "# reverse the switch of x and z on predictions if necessary\n",
    "# and merge all predictions into one cloud  \n",
    "\n",
    "full_pred = np.empty((2, 3))\n",
    "pred1 = np.empty((2, 3))\n",
    "predflip = np.empty((2, 3))\n",
    "\n",
    "\n",
    "for files in glob.glob(pred_path+\"*.ply\"): \n",
    "    # Load PLY file using Open3D\n",
    "    ply_cloud = o3d.io.read_point_cloud(files)\n",
    "    data = np.asarray(ply_cloud.points)\n",
    "    \n",
    "    filename = os.path.basename(files)\n",
    "    newfile = np.column_stack((data[:, 2], data[:, 1], data[:, 0]))\n",
    "    # Swap the first and third columns\n",
    "    if \"flip\" in filename:\n",
    "        #print(\"found flip\")\n",
    "        predflip = np.concatenate((predflip, newfile), 0)   \n",
    "    else:\n",
    "        newfile = data\n",
    "        pred1 = np.concatenate((pred1, newfile), 0)\n",
    "   \n",
    "\n",
    "# Save final results as PLY files\n",
    "# Create and save the main completion result\n",
    "cloud_pred1 = o3d.geometry.PointCloud()\n",
    "cloud_pred1.points = o3d.utility.Vector3dVector(pred1)\n",
    "o3d.io.write_point_cloud(pred_path+\"/treename_completion.ply\", cloud_pred1)\n",
    "\n",
    "# Create and save the flipped completion result\n",
    "cloud_predflip = o3d.geometry.PointCloud()\n",
    "cloud_predflip.points = o3d.utility.Vector3dVector(predflip)\n",
    "o3d.io.write_point_cloud(pred_path+\"/treename_completion_withflips.ply\", cloud_predflip)\n",
    "\n",
    "print(\"done\")"
   ]
  },
  {
   "cell_type": "code",
   "execution_count": null,
   "id": "b187bad5",
   "metadata": {},
   "outputs": [
    {
     "name": "stdout",
     "output_type": "stream",
     "text": [
      "done\n"
     ]
    }
   ],
   "source": [
    "# reverse the switch of x and z on predictions if necessary\n",
    "# and merge all predictions into one cloud  \n",
    "\n",
    "full_pred = np.empty((2, 3))\n",
    "pred1 = np.empty((2, 3))\n",
    "predflip = np.empty((2, 3))\n",
    "\n",
    "\n",
    "for files in glob.glob(pred_path+\"*.ply\"): \n",
    "    # Load PLY file using Open3D\n",
    "    ply_cloud = o3d.io.read_point_cloud(files)\n",
    "    data = np.asarray(ply_cloud.points)\n",
    "    \n",
    "    filename = os.path.basename(files)\n",
    "    newfile = np.column_stack((data[:, 2], data[:, 1], data[:, 0]))\n",
    "    # Swap the first and third columns\n",
    "    if \"flip\" in filename:\n",
    "        #print(\"found flip\")\n",
    "        predflip = np.concatenate((predflip, newfile), 0)   \n",
    "    else:\n",
    "        newfile = data\n",
    "        pred1 = np.concatenate((pred1, newfile), 0)\n",
    "   \n",
    "\n",
    "# Save final results as PLY files\n",
    "# Create and save the main completion result\n",
    "cloud_pred1 = o3d.geometry.PointCloud()\n",
    "cloud_pred1.points = o3d.utility.Vector3dVector(pred1)\n",
    "o3d.io.write_point_cloud(pred_path+\"/treename_completion.ply\", cloud_pred1)\n",
    "\n",
    "# Create and save the flipped completion result\n",
    "cloud_predflip = o3d.geometry.PointCloud()\n",
    "cloud_predflip.points = o3d.utility.Vector3dVector(predflip)\n",
    "o3d.io.write_point_cloud(pred_path+\"/treename_completion_withflips.ply\", cloud_predflip)\n",
    "\n",
    "print(\"done\")"
   ]
  },
  {
   "cell_type": "code",
   "execution_count": null,
   "id": "c0e608f3",
   "metadata": {},
   "outputs": [
    {
     "name": "stdout",
     "output_type": "stream",
     "text": [
      "done\n"
     ]
    }
   ],
   "source": [
    "# reverse the switch of x and z on predictions if necessary\n",
    "# and merge all predictions into one cloud  \n",
    "\n",
    "full_pred = np.empty((2, 3))\n",
    "pred1 = np.empty((2, 3))\n",
    "predflip = np.empty((2, 3))\n",
    "\n",
    "\n",
    "for files in glob.glob(pred_path+\"*.ply\"): \n",
    "    # Load PLY file using Open3D\n",
    "    ply_cloud = o3d.io.read_point_cloud(files)\n",
    "    data = np.asarray(ply_cloud.points)\n",
    "    \n",
    "    filename = os.path.basename(files)\n",
    "    newfile = np.column_stack((data[:, 2], data[:, 1], data[:, 0]))\n",
    "    # Swap the first and third columns\n",
    "    if \"flip\" in filename:\n",
    "        #print(\"found flip\")\n",
    "        predflip = np.concatenate((predflip, newfile), 0)   \n",
    "    else:\n",
    "        newfile = data\n",
    "        pred1 = np.concatenate((pred1, newfile), 0)\n",
    "   \n",
    "\n",
    "# Save final results as PLY files\n",
    "# Create and save the main completion result\n",
    "cloud_pred1 = o3d.geometry.PointCloud()\n",
    "cloud_pred1.points = o3d.utility.Vector3dVector(pred1)\n",
    "o3d.io.write_point_cloud(pred_path+\"/treename_completion.ply\", cloud_pred1)\n",
    "\n",
    "# Create and save the flipped completion result\n",
    "cloud_predflip = o3d.geometry.PointCloud()\n",
    "cloud_predflip.points = o3d.utility.Vector3dVector(predflip)\n",
    "o3d.io.write_point_cloud(pred_path+\"/treename_completion_withflips.ply\", cloud_predflip)\n",
    "\n",
    "print(\"done\")"
   ]
  },
  {
   "cell_type": "code",
   "execution_count": null,
   "id": "69d5a3af",
   "metadata": {},
   "outputs": [
    {
     "name": "stdout",
     "output_type": "stream",
     "text": [
      "done\n"
     ]
    }
   ],
   "source": [
    "# reverse the switch of x and z on predictions if necessary\n",
    "# and merge all predictions into one cloud  \n",
    "\n",
    "full_pred = np.empty((2, 3))\n",
    "pred1 = np.empty((2, 3))\n",
    "predflip = np.empty((2, 3))\n",
    "\n",
    "\n",
    "for files in glob.glob(pred_path+\"*.ply\"): \n",
    "    # Load PLY file using Open3D\n",
    "    ply_cloud = o3d.io.read_point_cloud(files)\n",
    "    data = np.asarray(ply_cloud.points)\n",
    "    \n",
    "    filename = os.path.basename(files)\n",
    "    newfile = np.column_stack((data[:, 2], data[:, 1], data[:, 0]))\n",
    "    # Swap the first and third columns\n",
    "    if \"flip\" in filename:\n",
    "        #print(\"found flip\")\n",
    "        predflip = np.concatenate((predflip, newfile), 0)   \n",
    "    else:\n",
    "        newfile = data\n",
    "        pred1 = np.concatenate((pred1, newfile), 0)\n",
    "   \n",
    "\n",
    "# Save final results as PLY files\n",
    "# Create and save the main completion result\n",
    "cloud_pred1 = o3d.geometry.PointCloud()\n",
    "cloud_pred1.points = o3d.utility.Vector3dVector(pred1)\n",
    "o3d.io.write_point_cloud(pred_path+\"/treename_completion.ply\", cloud_pred1)\n",
    "\n",
    "# Create and save the flipped completion result\n",
    "cloud_predflip = o3d.geometry.PointCloud()\n",
    "cloud_predflip.points = o3d.utility.Vector3dVector(predflip)\n",
    "o3d.io.write_point_cloud(pred_path+\"/treename_completion_withflips.ply\", cloud_predflip)\n",
    "\n",
    "print(\"done\")"
   ]
  },
  {
   "cell_type": "code",
   "execution_count": null,
   "id": "274b4b09",
   "metadata": {},
   "outputs": [
    {
     "name": "stdout",
     "output_type": "stream",
     "text": [
      "done\n"
     ]
    }
   ],
   "source": [
    "# reverse the switch of x and z on predictions if necessary\n",
    "# and merge all predictions into one cloud  \n",
    "\n",
    "full_pred = np.empty((2, 3))\n",
    "pred1 = np.empty((2, 3))\n",
    "predflip = np.empty((2, 3))\n",
    "\n",
    "\n",
    "for files in glob.glob(pred_path+\"*.ply\"): \n",
    "    # Load PLY file using Open3D\n",
    "    ply_cloud = o3d.io.read_point_cloud(files)\n",
    "    data = np.asarray(ply_cloud.points)\n",
    "    \n",
    "    filename = os.path.basename(files)\n",
    "    newfile = np.column_stack((data[:, 2], data[:, 1], data[:, 0]))\n",
    "    # Swap the first and third columns\n",
    "    if \"flip\" in filename:\n",
    "        #print(\"found flip\")\n",
    "        predflip = np.concatenate((predflip, newfile), 0)   \n",
    "    else:\n",
    "        newfile = data\n",
    "        pred1 = np.concatenate((pred1, newfile), 0)\n",
    "   \n",
    "\n",
    "# Save final results as PLY files\n",
    "# Create and save the main completion result\n",
    "cloud_pred1 = o3d.geometry.PointCloud()\n",
    "cloud_pred1.points = o3d.utility.Vector3dVector(pred1)\n",
    "o3d.io.write_point_cloud(pred_path+\"/treename_completion.ply\", cloud_pred1)\n",
    "\n",
    "# Create and save the flipped completion result\n",
    "cloud_predflip = o3d.geometry.PointCloud()\n",
    "cloud_predflip.points = o3d.utility.Vector3dVector(predflip)\n",
    "o3d.io.write_point_cloud(pred_path+\"/treename_completion_withflips.ply\", cloud_predflip)\n",
    "\n",
    "print(\"done\")"
   ]
  },
  {
   "cell_type": "code",
   "execution_count": null,
   "id": "f2fed4b8",
   "metadata": {},
   "outputs": [
    {
     "name": "stdout",
     "output_type": "stream",
     "text": [
      "done\n"
     ]
    }
   ],
   "source": [
    "# reverse the switch of x and z on predictions if necessary\n",
    "# and merge all predictions into one cloud  \n",
    "\n",
    "full_pred = np.empty((2, 3))\n",
    "pred1 = np.empty((2, 3))\n",
    "predflip = np.empty((2, 3))\n",
    "\n",
    "\n",
    "for files in glob.glob(pred_path+\"*.ply\"): \n",
    "    # Load PLY file using Open3D\n",
    "    ply_cloud = o3d.io.read_point_cloud(files)\n",
    "    data = np.asarray(ply_cloud.points)\n",
    "    \n",
    "    filename = os.path.basename(files)\n",
    "    newfile = np.column_stack((data[:, 2], data[:, 1], data[:, 0]))\n",
    "    # Swap the first and third columns\n",
    "    if \"flip\" in filename:\n",
    "        #print(\"found flip\")\n",
    "        predflip = np.concatenate((predflip, newfile), 0)   \n",
    "    else:\n",
    "        newfile = data\n",
    "        pred1 = np.concatenate((pred1, newfile), 0)\n",
    "   \n",
    "\n",
    "# Save final results as PLY files\n",
    "# Create and save the main completion result\n",
    "cloud_pred1 = o3d.geometry.PointCloud()\n",
    "cloud_pred1.points = o3d.utility.Vector3dVector(pred1)\n",
    "o3d.io.write_point_cloud(pred_path+\"/treename_completion.ply\", cloud_pred1)\n",
    "\n",
    "# Create and save the flipped completion result\n",
    "cloud_predflip = o3d.geometry.PointCloud()\n",
    "cloud_predflip.points = o3d.utility.Vector3dVector(predflip)\n",
    "o3d.io.write_point_cloud(pred_path+\"/treename_completion_withflips.ply\", cloud_predflip)\n",
    "\n",
    "print(\"done\")"
   ]
  },
  {
   "cell_type": "code",
   "execution_count": null,
   "id": "30d5131b",
   "metadata": {},
   "outputs": [
    {
     "name": "stdout",
     "output_type": "stream",
     "text": [
      "done\n"
     ]
    }
   ],
   "source": [
    "# reverse the switch of x and z on predictions if necessary\n",
    "# and merge all predictions into one cloud  \n",
    "\n",
    "full_pred = np.empty((2, 3))\n",
    "pred1 = np.empty((2, 3))\n",
    "predflip = np.empty((2, 3))\n",
    "\n",
    "\n",
    "for files in glob.glob(pred_path+\"*.ply\"): \n",
    "    # Load PLY file using Open3D\n",
    "    ply_cloud = o3d.io.read_point_cloud(files)\n",
    "    data = np.asarray(ply_cloud.points)\n",
    "    \n",
    "    filename = os.path.basename(files)\n",
    "    newfile = np.column_stack((data[:, 2], data[:, 1], data[:, 0]))\n",
    "    # Swap the first and third columns\n",
    "    if \"flip\" in filename:\n",
    "        #print(\"found flip\")\n",
    "        predflip = np.concatenate((predflip, newfile), 0)   \n",
    "    else:\n",
    "        newfile = data\n",
    "        pred1 = np.concatenate((pred1, newfile), 0)\n",
    "   \n",
    "\n",
    "# Save final results as PLY files\n",
    "# Create and save the main completion result\n",
    "cloud_pred1 = o3d.geometry.PointCloud()\n",
    "cloud_pred1.points = o3d.utility.Vector3dVector(pred1)\n",
    "o3d.io.write_point_cloud(pred_path+\"/treename_completion.ply\", cloud_pred1)\n",
    "\n",
    "# Create and save the flipped completion result\n",
    "cloud_predflip = o3d.geometry.PointCloud()\n",
    "cloud_predflip.points = o3d.utility.Vector3dVector(predflip)\n",
    "o3d.io.write_point_cloud(pred_path+\"/treename_completion_withflips.ply\", cloud_predflip)\n",
    "\n",
    "print(\"done\")"
   ]
  },
  {
   "cell_type": "code",
   "execution_count": null,
   "id": "c8d84f67",
   "metadata": {},
   "outputs": [
    {
     "name": "stdout",
     "output_type": "stream",
     "text": [
      "done\n"
     ]
    }
   ],
   "source": [
    "# reverse the switch of x and z on predictions if necessary\n",
    "# and merge all predictions into one cloud  \n",
    "\n",
    "full_pred = np.empty((2, 3))\n",
    "pred1 = np.empty((2, 3))\n",
    "predflip = np.empty((2, 3))\n",
    "\n",
    "\n",
    "for files in glob.glob(pred_path+\"*.ply\"): \n",
    "    # Load PLY file using Open3D\n",
    "    ply_cloud = o3d.io.read_point_cloud(files)\n",
    "    data = np.asarray(ply_cloud.points)\n",
    "    \n",
    "    filename = os.path.basename(files)\n",
    "    newfile = np.column_stack((data[:, 2], data[:, 1], data[:, 0]))\n",
    "    # Swap the first and third columns\n",
    "    if \"flip\" in filename:\n",
    "        #print(\"found flip\")\n",
    "        predflip = np.concatenate((predflip, newfile), 0)   \n",
    "    else:\n",
    "        newfile = data\n",
    "        pred1 = np.concatenate((pred1, newfile), 0)\n",
    "   \n",
    "\n",
    "# Save final results as PLY files\n",
    "# Create and save the main completion result\n",
    "cloud_pred1 = o3d.geometry.PointCloud()\n",
    "cloud_pred1.points = o3d.utility.Vector3dVector(pred1)\n",
    "o3d.io.write_point_cloud(pred_path+\"/treename_completion.ply\", cloud_pred1)\n",
    "\n",
    "# Create and save the flipped completion result\n",
    "cloud_predflip = o3d.geometry.PointCloud()\n",
    "cloud_predflip.points = o3d.utility.Vector3dVector(predflip)\n",
    "o3d.io.write_point_cloud(pred_path+\"/treename_completion_withflips.ply\", cloud_predflip)\n",
    "\n",
    "print(\"done\")"
   ]
  },
  {
   "cell_type": "code",
   "execution_count": null,
   "metadata": {},
   "outputs": [
    {
     "name": "stdout",
     "output_type": "stream",
     "text": [
      "done\n"
     ]
    }
   ],
   "source": [
    "# reverse the switch of x and z on predictions if necessary\n",
    "# and merge all predictions into one cloud  \n",
    "\n",
    "full_pred = np.empty((2, 3))\n",
    "pred1 = np.empty((2, 3))\n",
    "predflip = np.empty((2, 3))\n",
    "\n",
    "\n",
    "for files in glob.glob(pred_path+\"*.ply\"): \n",
    "    # Load PLY file using Open3D\n",
    "    ply_cloud = o3d.io.read_point_cloud(files)\n",
    "    data = np.asarray(ply_cloud.points)\n",
    "    \n",
    "    filename = os.path.basename(files)\n",
    "    newfile = np.column_stack((data[:, 2], data[:, 1], data[:, 0]))\n",
    "    # Swap the first and third columns\n",
    "    if \"flip\" in filename:\n",
    "        #print(\"found flip\")\n",
    "        predflip = np.concatenate((predflip, newfile), 0)   \n",
    "    else:\n",
    "        newfile = data\n",
    "        pred1 = np.concatenate((pred1, newfile), 0)\n",
    "   \n",
    "\n",
    "# Save final results as PLY files\n",
    "# Create and save the main completion result\n",
    "cloud_pred1 = o3d.geometry.PointCloud()\n",
    "cloud_pred1.points = o3d.utility.Vector3dVector(pred1)\n",
    "o3d.io.write_point_cloud(pred_path+\"/treename_completion.ply\", cloud_pred1)\n",
    "\n",
    "# Create and save the flipped completion result\n",
    "cloud_predflip = o3d.geometry.PointCloud()\n",
    "cloud_predflip.points = o3d.utility.Vector3dVector(predflip)\n",
    "o3d.io.write_point_cloud(pred_path+\"/treename_completion_withflips.ply\", cloud_predflip)\n",
    "\n",
    "print(\"done\")"
   ]
  },
  {
   "cell_type": "code",
   "execution_count": null,
   "id": "f157f685",
   "metadata": {},
   "outputs": [
    {
     "name": "stdout",
     "output_type": "stream",
     "text": [
      "done\n"
     ]
    }
   ],
   "source": [
    "# reverse the switch of x and z on predictions if necessary\n",
    "# and merge all predictions into one cloud  \n",
    "\n",
    "full_pred = np.empty((2, 3))\n",
    "pred1 = np.empty((2, 3))\n",
    "predflip = np.empty((2, 3))\n",
    "\n",
    "\n",
    "for files in glob.glob(pred_path+\"*.ply\"): \n",
    "    # Load PLY file using Open3D\n",
    "    ply_cloud = o3d.io.read_point_cloud(files)\n",
    "    data = np.asarray(ply_cloud.points)\n",
    "    \n",
    "    filename = os.path.basename(files)\n",
    "    newfile = np.column_stack((data[:, 2], data[:, 1], data[:, 0]))\n",
    "    # Swap the first and third columns\n",
    "    if \"flip\" in filename:\n",
    "        #print(\"found flip\")\n",
    "        predflip = np.concatenate((predflip, newfile), 0)   \n",
    "    else:\n",
    "        newfile = data\n",
    "        pred1 = np.concatenate((pred1, newfile), 0)\n",
    "   \n",
    "\n",
    "# Save final results as PLY files\n",
    "# Create and save the main completion result\n",
    "cloud_pred1 = o3d.geometry.PointCloud()\n",
    "cloud_pred1.points = o3d.utility.Vector3dVector(pred1)\n",
    "o3d.io.write_point_cloud(pred_path+\"/treename_completion.ply\", cloud_pred1)\n",
    "\n",
    "# Create and save the flipped completion result\n",
    "cloud_predflip = o3d.geometry.PointCloud()\n",
    "cloud_predflip.points = o3d.utility.Vector3dVector(predflip)\n",
    "o3d.io.write_point_cloud(pred_path+\"/treename_completion_withflips.ply\", cloud_predflip)\n",
    "\n",
    "print(\"done\")"
   ]
  },
  {
   "cell_type": "code",
   "execution_count": null,
   "id": "d95e6dab",
   "metadata": {},
   "outputs": [
    {
     "name": "stdout",
     "output_type": "stream",
     "text": [
      "done\n"
     ]
    }
   ],
   "source": [
    "# reverse the switch of x and z on predictions if necessary\n",
    "# and merge all predictions into one cloud  \n",
    "\n",
    "full_pred = np.empty((2, 3))\n",
    "pred1 = np.empty((2, 3))\n",
    "predflip = np.empty((2, 3))\n",
    "\n",
    "\n",
    "for files in glob.glob(pred_path+\"*.ply\"): \n",
    "    # Load PLY file using Open3D\n",
    "    ply_cloud = o3d.io.read_point_cloud(files)\n",
    "    data = np.asarray(ply_cloud.points)\n",
    "    \n",
    "    filename = os.path.basename(files)\n",
    "    newfile = np.column_stack((data[:, 2], data[:, 1], data[:, 0]))\n",
    "    # Swap the first and third columns\n",
    "    if \"flip\" in filename:\n",
    "        #print(\"found flip\")\n",
    "        predflip = np.concatenate((predflip, newfile), 0)   \n",
    "    else:\n",
    "        newfile = data\n",
    "        pred1 = np.concatenate((pred1, newfile), 0)\n",
    "   \n",
    "\n",
    "# Save final results as PLY files\n",
    "# Create and save the main completion result\n",
    "cloud_pred1 = o3d.geometry.PointCloud()\n",
    "cloud_pred1.points = o3d.utility.Vector3dVector(pred1)\n",
    "o3d.io.write_point_cloud(pred_path+\"/treename_completion.ply\", cloud_pred1)\n",
    "\n",
    "# Create and save the flipped completion result\n",
    "cloud_predflip = o3d.geometry.PointCloud()\n",
    "cloud_predflip.points = o3d.utility.Vector3dVector(predflip)\n",
    "o3d.io.write_point_cloud(pred_path+\"/treename_completion_withflips.ply\", cloud_predflip)\n",
    "\n",
    "print(\"done\")"
   ]
  },
  {
   "cell_type": "code",
   "execution_count": null,
   "id": "d9dd1e57",
   "metadata": {},
   "outputs": [
    {
     "name": "stdout",
     "output_type": "stream",
     "text": [
      "done\n"
     ]
    }
   ],
   "source": [
    "# reverse the switch of x and z on predictions if necessary\n",
    "# and merge all predictions into one cloud  \n",
    "\n",
    "full_pred = np.empty((2, 3))\n",
    "pred1 = np.empty((2, 3))\n",
    "predflip = np.empty((2, 3))\n",
    "\n",
    "\n",
    "for files in glob.glob(pred_path+\"*.ply\"): \n",
    "    # Load PLY file using Open3D\n",
    "    ply_cloud = o3d.io.read_point_cloud(files)\n",
    "    data = np.asarray(ply_cloud.points)\n",
    "    \n",
    "    filename = os.path.basename(files)\n",
    "    newfile = np.column_stack((data[:, 2], data[:, 1], data[:, 0]))\n",
    "    # Swap the first and third columns\n",
    "    if \"flip\" in filename:\n",
    "        #print(\"found flip\")\n",
    "        predflip = np.concatenate((predflip, newfile), 0)   \n",
    "    else:\n",
    "        newfile = data\n",
    "        pred1 = np.concatenate((pred1, newfile), 0)\n",
    "   \n",
    "\n",
    "# Save final results as PLY files\n",
    "# Create and save the main completion result\n",
    "cloud_pred1 = o3d.geometry.PointCloud()\n",
    "cloud_pred1.points = o3d.utility.Vector3dVector(pred1)\n",
    "o3d.io.write_point_cloud(pred_path+\"/treename_completion.ply\", cloud_pred1)\n",
    "\n",
    "# Create and save the flipped completion result\n",
    "cloud_predflip = o3d.geometry.PointCloud()\n",
    "cloud_predflip.points = o3d.utility.Vector3dVector(predflip)\n",
    "o3d.io.write_point_cloud(pred_path+\"/treename_completion_withflips.ply\", cloud_predflip)\n",
    "\n",
    "print(\"done\")"
   ]
  },
  {
   "cell_type": "code",
   "execution_count": null,
   "id": "0300847a",
   "metadata": {},
   "outputs": [
    {
     "name": "stdout",
     "output_type": "stream",
     "text": [
      "done\n"
     ]
    }
   ],
   "source": [
    "# reverse the switch of x and z on predictions if necessary\n",
    "# and merge all predictions into one cloud  \n",
    "\n",
    "full_pred = np.empty((2, 3))\n",
    "pred1 = np.empty((2, 3))\n",
    "predflip = np.empty((2, 3))\n",
    "\n",
    "\n",
    "for files in glob.glob(pred_path+\"*.ply\"): \n",
    "    # Load PLY file using Open3D\n",
    "    ply_cloud = o3d.io.read_point_cloud(files)\n",
    "    data = np.asarray(ply_cloud.points)\n",
    "    \n",
    "    filename = os.path.basename(files)\n",
    "    newfile = np.column_stack((data[:, 2], data[:, 1], data[:, 0]))\n",
    "    # Swap the first and third columns\n",
    "    if \"flip\" in filename:\n",
    "        #print(\"found flip\")\n",
    "        predflip = np.concatenate((predflip, newfile), 0)   \n",
    "    else:\n",
    "        newfile = data\n",
    "        pred1 = np.concatenate((pred1, newfile), 0)\n",
    "   \n",
    "\n",
    "# Save final results as PLY files\n",
    "# Create and save the main completion result\n",
    "cloud_pred1 = o3d.geometry.PointCloud()\n",
    "cloud_pred1.points = o3d.utility.Vector3dVector(pred1)\n",
    "o3d.io.write_point_cloud(pred_path+\"/treename_completion.ply\", cloud_pred1)\n",
    "\n",
    "# Create and save the flipped completion result\n",
    "cloud_predflip = o3d.geometry.PointCloud()\n",
    "cloud_predflip.points = o3d.utility.Vector3dVector(predflip)\n",
    "o3d.io.write_point_cloud(pred_path+\"/treename_completion_withflips.ply\", cloud_predflip)\n",
    "\n",
    "print(\"done\")"
   ]
  },
  {
   "cell_type": "code",
   "execution_count": null,
   "id": "062a76b2",
   "metadata": {},
   "outputs": [
    {
     "name": "stdout",
     "output_type": "stream",
     "text": [
      "done\n"
     ]
    }
   ],
   "source": [
    "# reverse the switch of x and z on predictions if necessary\n",
    "# and merge all predictions into one cloud  \n",
    "\n",
    "full_pred = np.empty((2, 3))\n",
    "pred1 = np.empty((2, 3))\n",
    "predflip = np.empty((2, 3))\n",
    "\n",
    "\n",
    "for files in glob.glob(pred_path+\"*.ply\"): \n",
    "    # Load PLY file using Open3D\n",
    "    ply_cloud = o3d.io.read_point_cloud(files)\n",
    "    data = np.asarray(ply_cloud.points)\n",
    "    \n",
    "    filename = os.path.basename(files)\n",
    "    newfile = np.column_stack((data[:, 2], data[:, 1], data[:, 0]))\n",
    "    # Swap the first and third columns\n",
    "    if \"flip\" in filename:\n",
    "        #print(\"found flip\")\n",
    "        predflip = np.concatenate((predflip, newfile), 0)   \n",
    "    else:\n",
    "        newfile = data\n",
    "        pred1 = np.concatenate((pred1, newfile), 0)\n",
    "   \n",
    "\n",
    "# Save final results as PLY files\n",
    "# Create and save the main completion result\n",
    "cloud_pred1 = o3d.geometry.PointCloud()\n",
    "cloud_pred1.points = o3d.utility.Vector3dVector(pred1)\n",
    "o3d.io.write_point_cloud(pred_path+\"/treename_completion.ply\", cloud_pred1)\n",
    "\n",
    "# Create and save the flipped completion result\n",
    "cloud_predflip = o3d.geometry.PointCloud()\n",
    "cloud_predflip.points = o3d.utility.Vector3dVector(predflip)\n",
    "o3d.io.write_point_cloud(pred_path+\"/treename_completion_withflips.ply\", cloud_predflip)\n",
    "\n",
    "print(\"done\")"
   ]
  },
  {
   "cell_type": "code",
   "execution_count": null,
   "id": "0d642312",
   "metadata": {},
   "outputs": [
    {
     "name": "stdout",
     "output_type": "stream",
     "text": [
      "done\n"
     ]
    }
   ],
   "source": [
    "# reverse the switch of x and z on predictions if necessary\n",
    "# and merge all predictions into one cloud  \n",
    "\n",
    "full_pred = np.empty((2, 3))\n",
    "pred1 = np.empty((2, 3))\n",
    "predflip = np.empty((2, 3))\n",
    "\n",
    "\n",
    "for files in glob.glob(pred_path+\"*.ply\"): \n",
    "    # Load PLY file using Open3D\n",
    "    ply_cloud = o3d.io.read_point_cloud(files)\n",
    "    data = np.asarray(ply_cloud.points)\n",
    "    \n",
    "    filename = os.path.basename(files)\n",
    "    newfile = np.column_stack((data[:, 2], data[:, 1], data[:, 0]))\n",
    "    # Swap the first and third columns\n",
    "    if \"flip\" in filename:\n",
    "        #print(\"found flip\")\n",
    "        predflip = np.concatenate((predflip, newfile), 0)   \n",
    "    else:\n",
    "        newfile = data\n",
    "        pred1 = np.concatenate((pred1, newfile), 0)\n",
    "   \n",
    "\n",
    "# Save final results as PLY files\n",
    "# Create and save the main completion result\n",
    "cloud_pred1 = o3d.geometry.PointCloud()\n",
    "cloud_pred1.points = o3d.utility.Vector3dVector(pred1)\n",
    "o3d.io.write_point_cloud(pred_path+\"/treename_completion.ply\", cloud_pred1)\n",
    "\n",
    "# Create and save the flipped completion result\n",
    "cloud_predflip = o3d.geometry.PointCloud()\n",
    "cloud_predflip.points = o3d.utility.Vector3dVector(predflip)\n",
    "o3d.io.write_point_cloud(pred_path+\"/treename_completion_withflips.ply\", cloud_predflip)\n",
    "\n",
    "print(\"done\")"
   ]
  },
  {
   "cell_type": "markdown",
   "id": "acc7ba16",
   "metadata": {},
   "source": [
    "### Convert and merge predictions"
   ]
  },
  {
   "cell_type": "code",
   "execution_count": 22,
   "id": "84e7ef6d",
   "metadata": {},
   "outputs": [
    {
     "name": "stdout",
     "output_type": "stream",
     "text": [
      "done\n"
     ]
    }
   ],
   "source": [
    "# convert all .npy files of predictions into .ply files\n",
    "pred_path=\"../inference_results\"\n",
    "dirs = os.listdir(path=pred_path)\n",
    "full_pred = np.empty((2, 3))\n",
    "for dirs in dirs:\n",
    "    a = np.load(pred_path+\"/\"+dirs+\"/\"+\"fine.npy\")\n",
    "    # Create Open3D point cloud and save as PLY\n",
    "    cloud = o3d.geometry.PointCloud()\n",
    "    cloud.points = o3d.utility.Vector3dVector(a)\n",
    "    o3d.io.write_point_cloud(pred_path+\"/\"+dirs+\"_pred.ply\", cloud)\n",
    "print(\"done\")"
   ]
  },
  {
   "cell_type": "code",
   "execution_count": 24,
   "id": "61f7d056",
   "metadata": {},
   "outputs": [
    {
     "name": "stdout",
     "output_type": "stream",
     "text": [
      "done\n"
     ]
    }
   ],
   "source": [
    "# reverse the switch of x and z on predictions if necessary\n",
    "# and merge all predictions into one cloud  \n",
    "\n",
    "full_pred = np.empty((2, 3))\n",
    "pred1 = np.empty((2, 3))\n",
    "predflip = np.empty((2, 3))\n",
    "\n",
    "\n",
    "for files in glob.glob(pred_path+\"*.ply\"): \n",
    "    # Load PLY file using Open3D\n",
    "    ply_cloud = o3d.io.read_point_cloud(files)\n",
    "    data = np.asarray(ply_cloud.points)\n",
    "    \n",
    "    filename = os.path.basename(files)\n",
    "    newfile = np.column_stack((data[:, 2], data[:, 1], data[:, 0]))\n",
    "    # Swap the first and third columns\n",
    "    if \"flip\" in filename:\n",
    "        #print(\"found flip\")\n",
    "        predflip = np.concatenate((predflip, newfile), 0)   \n",
    "    else:\n",
    "        newfile = data\n",
    "        pred1 = np.concatenate((pred1, newfile), 0)\n",
    "   \n",
    "\n",
    "# Save final results as PLY files\n",
    "# Create and save the main completion result\n",
    "cloud_pred1 = o3d.geometry.PointCloud()\n",
    "cloud_pred1.points = o3d.utility.Vector3dVector(pred1)\n",
    "o3d.io.write_point_cloud(pred_path+\"/treename_completion.ply\", cloud_pred1)\n",
    "\n",
    "# Create and save the flipped completion result\n",
    "cloud_predflip = o3d.geometry.PointCloud()\n",
    "cloud_predflip.points = o3d.utility.Vector3dVector(predflip)\n",
    "o3d.io.write_point_cloud(pred_path+\"/treename_completion_withflips.ply\", cloud_predflip)\n",
    "\n",
    "print(\"done\")"
   ]
  },
  {
   "cell_type": "markdown",
   "id": "13aae4e8",
   "metadata": {},
   "source": [
    "### Post-processing\n",
    "\n",
    "Ideally, the completed point clouds are now filtered in CloudCompare, using e.g. SOR filter and Gemetric features (Surface density)."
   ]
  }
 ],
 "metadata": {
  "kernelspec": {
   "display_name": "treepointr_py310",
   "language": "python",
   "name": "python3"
  },
  "language_info": {
   "codemirror_mode": {
    "name": "ipython",
    "version": 3
   },
   "file_extension": ".py",
   "mimetype": "text/x-python",
   "name": "python",
   "nbconvert_exporter": "python",
   "pygments_lexer": "ipython3",
   "version": "3.10.18"
  }
 },
 "nbformat": 4,
 "nbformat_minor": 5
}
